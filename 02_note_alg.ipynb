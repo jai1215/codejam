{
 "cells": [
  {
   "cell_type": "code",
   "execution_count": null,
   "metadata": {},
   "outputs": [],
   "source": [
    "def dfs(graph, v, visited):\n",
    "    # 현재 노드 방문 처리\n",
    "    visited[v] = True\n",
    "    print(v, end=' ')\n",
    "\n",
    "    # 현재 노드와 연결된 다른 노드를 재귀적으로 방문\n",
    "    for i in graph[v]:\n",
    "        if not visited[i]:\n",
    "            dfs(graph, i, visited)"
   ]
  },
  {
   "cell_type": "code",
   "execution_count": null,
   "metadata": {},
   "outputs": [],
   "source": [
    "from collections import deque\n",
    "\n",
    "def bfs(graph, start, visited):\n",
    "    queue = deque([start])\n",
    "    # node visited\n",
    "    visited[start] = True\n",
    "\n",
    "    # loop till queue is empty\n",
    "    while queue:\n",
    "        # visted node 'v' \n",
    "        v = queue.popleft()\n",
    "        print(v, end=' ')\n",
    "\n",
    "        # v 노드에 연결된 노드들 투입 -> 방문 안한 노드만 queue에 추가\n",
    "        for i in graph[v]:\n",
    "            if not visited[i]:\n",
    "               queue.append(i)\n",
    "               # print(queue) # queue안에 뭐있나\n",
    "               visited[i] = True"
   ]
  },
  {
   "cell_type": "code",
   "execution_count": null,
   "metadata": {},
   "outputs": [],
   "source": [
    "from math import gcd \n",
    "a, b = map(int, input().split())  \n",
    "print(f'{a*b//gcd(a,b)}\\n')"
   ]
  }
 ],
 "metadata": {
  "language_info": {
   "name": "python"
  }
 },
 "nbformat": 4,
 "nbformat_minor": 2
}
