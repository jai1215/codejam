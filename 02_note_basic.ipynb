{
 "cells": [
  {
   "cell_type": "code",
   "execution_count": null,
   "metadata": {},
   "outputs": [],
   "source": [
    "#Filter \n",
    "nums = [3, 5, 4, 8, 9]\n",
    "nums = list(filter(lambda n: n%2 != 0, nums))\n",
    "print(nums) # [3, 5, 9]"
   ]
  },
  {
   "cell_type": "code",
   "execution_count": null,
   "metadata": {},
   "outputs": [],
   "source": [
    "# sort() : 원본 배열 변경\n",
    "L = [3, 2, 4, 1]\n",
    "L.sort()\n",
    "print(L) # [1, 2, 3, 4]\n",
    "\n",
    "L = [3, 2, 4, 1]\n",
    "L.sort(reverse=True)\n",
    "print(L) # [4, 3, 2, 1]\n",
    "\n",
    "# sorted() : 원본 배열 변경 X\n",
    "L = [3, 2, 4, 1]\n",
    "L = sorted(L)\n",
    "print(L) # [1, 2, 3, 4]\n",
    "\n",
    "L = [3, 2, 4, 1]\n",
    "L = sorted(L, reverse=True)\n",
    "print(L) # [4, 3, 2, 1]"
   ]
  },
  {
   "cell_type": "code",
   "execution_count": null,
   "metadata": {},
   "outputs": [],
   "source": [
    "D = dict({5: 1, 3: 3, 4: 2})\n",
    "print(D.get(5)) # 1\n",
    "print(D.get(999, 0)) # 0 -- 찾으려는 값이 없을 때 2번째 값을 출력!"
   ]
  },
  {
   "cell_type": "code",
   "execution_count": null,
   "metadata": {},
   "outputs": [],
   "source": [
    "D = dict({5: 1, 3: 3, 4: 2})\n",
    "print(sorted(D))\n",
    "# [3, 4, 5] -- key들이 정렬된 list가 조회된다.\n",
    "print(sorted(D.items()))\n",
    "# [(3, 3), (4, 2), (5, 1)] -- (key, value) 튜플이 정렬된 list가 조회된다.\n",
    "print(sorted(D.items(), key = lambda x: x[1]))\n",
    "# [(5, 1), (4, 2), (3, 3)] -- value 기준으로 튜플이 정렬된 list가 조회된다."
   ]
  },
  {
   "cell_type": "code",
   "execution_count": null,
   "metadata": {},
   "outputs": [],
   "source": [
    "A = set([1, 2, 3, 4, 5, 6])\n",
    "B = set([2, 3, 5, 7, 9])\n",
    "\n",
    "print(A.intersection(B)) # 교집합. {1, 4, 6}\n",
    "print(A.difference(B)) # 차집합. {1, 4, 6}\n",
    "print(A.union(B)) # 합집합. {1, 2, 3, 4, 5, 6, 7, 9}\n",
    "\n",
    "# 축약어\n",
    "print(A & B) # 교집합. {1, 4, 6}\n",
    "print(A - B) # 차집합. {1, 4, 6}\n",
    "print(A | B) # 합집합. {1, 2, 3, 4, 5, 6, 7, 9}\n",
    "\n",
    "S = set([])\n",
    "S.add(1)\n",
    "print(S) # {1}\n",
    "S.update([2, 3])\n",
    "print(S) # {1, 2, 3}"
   ]
  },
  {
   "cell_type": "code",
   "execution_count": null,
   "metadata": {},
   "outputs": [],
   "source": [
    "from itertools import*\n",
    "#Accumulate\n",
    "a = [1, 2, 3, 4, 5, 6, 7, 8, 9, 10]\n",
    "b = list(accumulate(a))\n",
    "print(b)  # [1, 3, 6, 10, 15, 21, 28, 36, 45, 55]\n",
    "b = list(accumulate(a, initial=0))\n",
    "print(b)  # [0, 1, 3, 6, 10, 15, 21, 28, 36, 45, 55]\n",
    "\n",
    "#combination\n",
    "A = [1, 2, 3]\n",
    "print(list(combinations(A, 2)))\n",
    "# [(1, 2), (1, 3), (2, 3)]\n",
    "# 3C2 = (3 * 2) / (2 * 1) = 3가지\n",
    "print(list(permutations(A, 2)))\n",
    "# [(1, 2), (1, 3), (2, 1), (2, 3), (3, 1), (3, 2)]\n",
    "# 3P2 = 3 * 2 = 6가지\n",
    "print(list(product(A, repeat = 2)))\n",
    "# [(1, 1), (1, 2), (1, 3), (2, 1), (2, 2), (2, 3), (3, 1), (3, 2), (3, 3)]"
   ]
  }
 ],
 "metadata": {
  "kernelspec": {
   "display_name": "base",
   "language": "python",
   "name": "python3"
  },
  "language_info": {
   "codemirror_mode": {
    "name": "ipython",
    "version": 3
   },
   "file_extension": ".py",
   "mimetype": "text/x-python",
   "name": "python",
   "nbconvert_exporter": "python",
   "pygments_lexer": "ipython3",
   "version": "3.9.7"
  }
 },
 "nbformat": 4,
 "nbformat_minor": 2
}
